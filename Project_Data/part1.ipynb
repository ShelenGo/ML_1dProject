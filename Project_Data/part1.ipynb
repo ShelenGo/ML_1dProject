{
 "cells": [
  {
   "cell_type": "code",
   "execution_count": 2,
   "metadata": {},
   "outputs": [],
   "source": [
    "import pandas as pd"
   ]
  },
  {
   "cell_type": "markdown",
   "metadata": {},
   "source": [
    "Read the File"
   ]
  },
  {
   "cell_type": "code",
   "execution_count": 10,
   "metadata": {},
   "outputs": [
    {
     "name": "stdout",
     "output_type": "stream",
     "text": [
      "Estuvimos O\n",
      "hace O\n",
      "poco O\n",
      "mi O\n",
      "pareja O\n",
      "y O\n",
      "yo O\n",
      "comiendo O\n",
      "y O\n",
      "resultó O\n",
      "todo O\n",
      "muy O\n",
      "bien O\n",
      ", O\n",
      "tanto O\n",
      "la O\n",
      "comida B-positive\n",
      ", O\n",
      "el O\n",
      "vino B-positive\n",
      ", O\n",
      "el O\n",
      "trato B-positive\n",
      ", O\n",
      "la O\n",
      "decoración B-positive\n",
      "… O\n",
      "nos O\n",
      "gustó O\n",
      "todo O\n",
      "mucho O\n",
      ". O\n",
      "\n"
     ]
    }
   ],
   "source": [
    "with open ('./ES/train', \"r\", encoding=\"utf-8\") as f:\n",
    "    lines = f.read()\n",
    "print(lines[0:248])"
   ]
  },
  {
   "cell_type": "markdown",
   "metadata": {},
   "source": [
    "Extract the X and Y"
   ]
  },
  {
   "cell_type": "code",
   "execution_count": 12,
   "metadata": {},
   "outputs": [
    {
     "name": "stdout",
     "output_type": "stream",
     "text": [
      "           X  Y\n",
      "0  Estuvimos  O\n",
      "1       hace  O\n",
      "2       poco  O\n",
      "3         mi  O\n",
      "4     pareja  O\n"
     ]
    }
   ],
   "source": [
    "def extract_words_and_tags(input_text):\n",
    "    words = []\n",
    "    tags = []\n",
    "    \n",
    "    lines = input_text.strip().split('\\n')\n",
    "    \n",
    "    for line in lines:\n",
    "        parts = line.split()\n",
    "        if len(parts) >= 2:\n",
    "            word = parts[0]\n",
    "            tag = parts[1]\n",
    "            words.append(word)\n",
    "            tags.append(tag)\n",
    "    \n",
    "    return words, tags\n",
    "\n",
    "# Extract words and tags\n",
    "x, y = extract_words_and_tags(lines)\n",
    "\n",
    "# Create a pandas DataFrame\n",
    "df = pd.DataFrame({'X': x, 'Y': y})\n",
    "\n",
    "# Print the first few rows of the DataFrame\n",
    "print(df.head())"
   ]
  },
  {
   "cell_type": "code",
   "execution_count": null,
   "metadata": {},
   "outputs": [],
   "source": [
    "def estimate_emission_params(input_text, x, y):\n",
    "    \n",
    "    "
   ]
  }
 ],
 "metadata": {
  "kernelspec": {
   "display_name": "venv",
   "language": "python",
   "name": "python3"
  },
  "language_info": {
   "codemirror_mode": {
    "name": "ipython",
    "version": 3
   },
   "file_extension": ".py",
   "mimetype": "text/x-python",
   "name": "python",
   "nbconvert_exporter": "python",
   "pygments_lexer": "ipython3",
   "version": "3.10.11"
  },
  "orig_nbformat": 4
 },
 "nbformat": 4,
 "nbformat_minor": 2
}
